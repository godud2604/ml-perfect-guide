{
 "cells": [
  {
   "cell_type": "markdown",
   "metadata": {},
   "source": [
    "## 사이킷런 내장 예제 데이터\n",
    "- fit : ML 모델 학습\n",
    "- predict : 학습된 모델의 예측\n",
    "- Classifier : 분류 알고리즘을 구현한 클래스\n",
    "- Regressor : 회귀 알고리즘을 구현한 클래스\n",
    "- Classifier와 Regressor를 합쳐서 Estimator 클래스라고 부른다.\n",
    "- 즉, 지도학습의 모든 알고리즘을 구현한 클래스를 통칭해서 Estimator라고 부른다.\n",
    "- Estimator 클래스는 fit과 predict를 내부에서 구현하고 있다."
   ]
  },
  {
   "cell_type": "markdown",
   "metadata": {},
   "source": [
    "- 비지도 학습 : 차원 축소, 클러스터링, 피처 추출 등을 구현한 클래스 대부분 fit과 transform을 사용\n",
    "- 비지도학습과 피처 추출에서 fit은 지도학습의 fit과 같이 학습을 의미하는 것이 아니라, 입력 데이터의 형태에 맞춰 데이터를 변환하기 위한 사전 구조를 맞추는 작업."
   ]
  },
  {
   "cell_type": "markdown",
   "metadata": {},
   "source": []
  }
 ],
 "metadata": {
  "kernelspec": {
   "display_name": "Python 3.9.7 ('base')",
   "language": "python",
   "name": "python3"
  },
  "language_info": {
   "name": "python",
   "version": "3.9.7"
  },
  "orig_nbformat": 4,
  "vscode": {
   "interpreter": {
    "hash": "40d3a090f54c6569ab1632332b64b2c03c39dcf918b08424e98f38b5ae0af88f"
   }
  }
 },
 "nbformat": 4,
 "nbformat_minor": 2
}
